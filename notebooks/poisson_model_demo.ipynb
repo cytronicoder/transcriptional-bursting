{
 "cells": [
  {
   "cell_type": "markdown",
   "metadata": {},
   "source": [
    "This notebook demonstrates the use of a Poisson + two-state Markov transcriptional bursting model with detection thinning to describe stochastic gene expression in single-cell transcriptomics. In this notebook, we:\n",
    "\n",
    "1. Initialize the model with biologically realistic parameters.\n",
    "2. Plot the probability mass function (PMF) of:\n",
    "   - Individual burst sizes\n",
    "   - Total observed transcript counts over a fixed observation window.\n",
    "3. Compute analytical moments (mean, variance, burstiness index).\n",
    "4. Simulate synthetic datasets using the model.\n",
    "5. Fit model parameters using method-of-moments estimation.\n",
    "\n",
    "## Model overview\n",
    "\n",
    "The model is mathematically represented as a compound Poisson process with mixed Poisson-distributed burst sizes:\n",
    "\n",
    "1. Genes stochastically switch between Off and On states.\n",
    "2. When On, transcripts are produced at rate $r$, but each transcript is detected only with probability $p$ (thinning).\n",
    "3. Burst durations are exponentially distributed with rate $k_\\text{off}$, and bursts occur with rate $k_\\text{on}$."
   ]
  },
  {
   "cell_type": "code",
   "execution_count": null,
   "metadata": {},
   "outputs": [],
   "source": [
    "import matplotlib.pyplot as plt\n",
    "import numpy as np\n",
    "from burst_models.poisson_model import PoissonBurstModel"
   ]
  },
  {
   "cell_type": "code",
   "execution_count": null,
   "metadata": {},
   "outputs": [],
   "source": [
    "def simulate_data(model: PoissonBurstModel, L: float, n_samples: int) -> np.ndarray:\n",
    "    \"\"\"\n",
    "    Simulate total observed transcript counts over window L:\n",
    "      1) Draw number of bursts B ~ Poisson(k_on * L)\n",
    "      2) For each burst i:\n",
    "           - Draw duration t_i ~ Exponential(rate=k_off)\n",
    "           - Draw observed transcripts N_i ~ Poisson(p * r * t_i)\n",
    "      3) Sum over bursts: X = sum_i N_i\n",
    "    \"\"\"\n",
    "    samples = []\n",
    "    for _ in range(n_samples):\n",
    "        # 1) number of bursts in window\n",
    "        B = np.random.poisson(model.k_on * L)\n",
    "        if B == 0:\n",
    "            samples.append(0)\n",
    "            continue\n",
    "        # 2) burst durations\n",
    "        durations = np.random.exponential(scale=1.0 / model.k_off, size=B)\n",
    "        # 3) transcripts per burst (with detection thinning)\n",
    "        counts = np.random.poisson(lam=model.r * model.p * durations)\n",
    "        samples.append(counts.sum())\n",
    "    return np.array(samples)"
   ]
  },
  {
   "cell_type": "code",
   "execution_count": null,
   "metadata": {},
   "outputs": [],
   "source": [
    "# Parameters\n",
    "k_on = 1.0     # burst initiation rate\n",
    "k_off = 1.5    # off-switching rate\n",
    "r = 5.0        # transcription rate when active\n",
    "p = 0.8        # detection probability\n",
    "L = 10.0       # observation window length"
   ]
  },
  {
   "cell_type": "code",
   "execution_count": null,
   "metadata": {},
   "outputs": [],
   "source": [
    "model = PoissonBurstModel(k_on=k_on, k_off=k_off, r=r, p=p)"
   ]
  },
  {
   "cell_type": "code",
   "execution_count": null,
   "metadata": {},
   "outputs": [],
   "source": [
    "k_vals = np.arange(0, 21)\n",
    "burst_pmf = [model.burst_size_pmf(k) for k in k_vals]\n",
    "\n",
    "x_vals = np.arange(0, 51)\n",
    "total_pmf = [model.total_transcripts_pmf(x, L) for x in x_vals]"
   ]
  },
  {
   "cell_type": "code",
   "execution_count": null,
   "metadata": {},
   "outputs": [],
   "source": [
    "fig, axes = plt.subplots(1, 2, figsize=(12, 5))\n",
    "\n",
    "axes[0].stem(k_vals, burst_pmf, basefmt=\" \", use_line_collection=True)\n",
    "axes[0].set_xlabel(\"Burst size k\")\n",
    "axes[0].set_ylabel(\"P(N=k)\")\n",
    "axes[0].set_title(\"Burst-size PMF\")\n",
    "\n",
    "axes[1].stem(x_vals, total_pmf, basefmt=\" \", use_line_collection=True)\n",
    "axes[1].set_xlabel(\"Total observed transcripts x\")\n",
    "axes[1].set_ylabel(\"P(X=x)\")\n",
    "axes[1].set_title(f\"Total-transcripts PMF (L={L})\")\n",
    "\n",
    "plt.tight_layout()\n",
    "plt.show()"
   ]
  },
  {
   "cell_type": "code",
   "execution_count": null,
   "metadata": {},
   "outputs": [],
   "source": [
    "# --- First moments ---\n",
    "mean, var, burstiness = model.first_moments(L)\n",
    "print(f\"Analytical results over L={L}:\")\n",
    "print(f\"  Mean        = {mean:.3f}\")\n",
    "print(f\"  Variance    = {var:.3f}\")\n",
    "print(f\"  Burstiness  = Var/Mean = {burstiness:.3f}\\n\")"
   ]
  },
  {
   "cell_type": "code",
   "execution_count": null,
   "metadata": {},
   "outputs": [],
   "source": [
    "# --- Simulate synthetic data ---\n",
    "n_samples = 1000\n",
    "data = simulate_data(model, L, n_samples)\n",
    "\n",
    "# Empirical sample moments\n",
    "print(\n",
    "    f\"Simulated {n_samples} samples → sample mean = {data.mean():.3f}, sample var = {data.var(ddof=1):.3f}\\n\"\n",
    ")"
   ]
  },
  {
   "cell_type": "code",
   "execution_count": null,
   "metadata": {},
   "outputs": [],
   "source": [
    "# --- Fit by method of moments ---\n",
    "lambda_hat, k_on_hat = PoissonBurstModel.fit_moments(data.tolist(), L)\n",
    "print(\"Fitted by method of moments:\")\n",
    "print(f\"  λ (p·r/k_off)  = {lambda_hat:.3f}\")\n",
    "print(f\"  k_on           = {k_on_hat:.3f}\")"
   ]
  },
  {
   "cell_type": "code",
   "execution_count": null,
   "metadata": {},
   "outputs": [],
   "source": [
    "# Plot histogram\n",
    "fig, ax = plt.subplots()\n",
    "ax.hist(data, bins=20)\n",
    "ax.set_xlabel(\"Total observed transcripts x\")\n",
    "ax.set_ylabel(\"Count\")\n",
    "ax.set_title(f\"Simulated data over L={L}\")\n",
    "plt.show()"
   ]
  },
  {
   "cell_type": "markdown",
   "metadata": {},
   "source": [
    "# Sweep analysis"
   ]
  },
  {
   "cell_type": "code",
   "execution_count": null,
   "metadata": {},
   "outputs": [],
   "source": [
    "baseline = {\"k_on\": 1.0, \"k_off\": 1.5, \"r\": 5.0, \"p\": 0.8, \"L\": 10.0}\n",
    "sweeps = {\n",
    "    \"k_on\": np.linspace(0.5 * baseline[\"k_on\"], 1.5 * baseline[\"k_on\"], 5),\n",
    "    \"k_off\": np.linspace(0.5 * baseline[\"k_off\"], 1.5 * baseline[\"k_off\"], 5),\n",
    "    \"r\": np.linspace(0.5 * baseline[\"r\"], 1.5 * baseline[\"r\"], 5),\n",
    "    \"p\": np.linspace(0.5 * baseline[\"p\"], 1.5 * baseline[\"p\"], 5),\n",
    "}\n",
    "variables = list(sweeps.keys())\n",
    "\n",
    "k_vals = np.arange(0, 21)\n",
    "x_vals = np.arange(0, 51)\n",
    "\n",
    "\n",
    "def make_model(params):\n",
    "    return PoissonBurstModel(\n",
    "        k_on=params[\"k_on\"], k_off=params[\"k_off\"], r=params[\"r\"], p=params[\"p\"]\n",
    "    )\n",
    "\n",
    "\n",
    "def plot_grid(plot_fn, title):\n",
    "    fig, axes = plt.subplots(\n",
    "        nrows=4, ncols=5, figsize=(15, 12), sharex=False, sharey=False\n",
    "    )\n",
    "    fig.suptitle(title, fontsize=16)\n",
    "    for i, var in enumerate(variables):\n",
    "        for j, val in enumerate(sweeps[var]):\n",
    "            # build parameter set for this subplot\n",
    "            params = baseline.copy()\n",
    "            params[var] = val\n",
    "            model = make_model(params)\n",
    "            ax = axes[i, j]\n",
    "            plot_fn(ax, model, params)\n",
    "            ax.set_title(f\"{var}={val:.2f}\")\n",
    "    plt.tight_layout(rect=[0, 0, 1, 0.96])\n",
    "    plt.show()"
   ]
  },
  {
   "cell_type": "code",
   "execution_count": null,
   "metadata": {},
   "outputs": [],
   "source": [
    "def plot_burst_pmf(ax, model, params):\n",
    "    pmf = [model.burst_size_pmf(k) for k in k_vals]\n",
    "    ax.stem(k_vals, pmf, basefmt=\" \", use_line_collection=True)\n",
    "    ax.set_xlabel(\"k\")\n",
    "    ax.set_ylabel(\"P(N=k)\")\n",
    "\n",
    "\n",
    "plot_grid(plot_burst_pmf, \"Burst-size PMF across parameter sweeps\")"
   ]
  },
  {
   "cell_type": "code",
   "execution_count": null,
   "metadata": {},
   "outputs": [],
   "source": [
    "def plot_total_pmf(ax, model, params):\n",
    "    pmf = [model.total_transcripts_pmf(x, params[\"L\"]) for x in x_vals]\n",
    "    ax.stem(x_vals, pmf, basefmt=\" \", use_line_collection=True)\n",
    "    ax.set_xlabel(\"x\")\n",
    "    ax.set_ylabel(\"P(X=x)\")\n",
    "\n",
    "\n",
    "plot_grid(plot_total_pmf, \"Total-transcripts PMF (L fixed)\")"
   ]
  },
  {
   "cell_type": "code",
   "execution_count": null,
   "metadata": {},
   "outputs": [],
   "source": [
    "def simulate_data(model, L, n_samples=500):\n",
    "    samples = []\n",
    "    for _ in range(n_samples):\n",
    "        B = np.random.poisson(model.k_on * L)\n",
    "        if B == 0:\n",
    "            samples.append(0)\n",
    "            continue\n",
    "        durations = np.random.exponential(scale=1.0 / model.k_off, size=B)\n",
    "        counts = np.random.poisson(lam=model.r * model.p * durations)\n",
    "        samples.append(counts.sum())\n",
    "    return np.array(samples)\n",
    "\n",
    "\n",
    "def plot_histogram(ax, model, params):\n",
    "    data = simulate_data(model, params[\"L\"], n_samples=500)\n",
    "    ax.hist(data, bins=20)\n",
    "    ax.set_xlabel(\"x\")\n",
    "    ax.set_ylabel(\"Count\")\n",
    "\n",
    "\n",
    "plot_grid(plot_histogram, \"Simulated-data histograms over sweeps\")"
   ]
  }
 ],
 "metadata": {
  "kernelspec": {
   "display_name": "Python 3.7.0 ('.venv': venv)",
   "language": "python",
   "name": "python3"
  },
  "language_info": {
   "codemirror_mode": {
    "name": "ipython",
    "version": 3
   },
   "file_extension": ".py",
   "mimetype": "text/x-python",
   "name": "python",
   "nbconvert_exporter": "python",
   "pygments_lexer": "ipython3",
   "version": "3.7.0"
  },
  "orig_nbformat": 4,
  "vscode": {
   "interpreter": {
    "hash": "ac8da0f9391e1bbed1a28a69c5cee0a611b312183537147f2abc4de01802c7b2"
   }
  }
 },
 "nbformat": 4,
 "nbformat_minor": 2
}
